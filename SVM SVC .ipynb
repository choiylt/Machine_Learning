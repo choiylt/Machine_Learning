{
 "cells": [
  {
   "cell_type": "code",
   "execution_count": 1,
   "metadata": {},
   "outputs": [],
   "source": [
    "import pandas as pd\n",
    "from sqlalchemy import create_engine\n",
    "from sklearn.model_selection import train_test_split\n",
    "from sklearn.svm import SVC\n",
    "from sklearn.model_selection import GridSearchCV\n",
    "from sklearn.preprocessing import StandardScaler\n",
    "import pickle\n"
   ]
  },
  {
   "cell_type": "code",
   "execution_count": 2,
   "metadata": {},
   "outputs": [
    {
     "data": {
      "text/html": [
       "<div>\n",
       "<style scoped>\n",
       "    .dataframe tbody tr th:only-of-type {\n",
       "        vertical-align: middle;\n",
       "    }\n",
       "\n",
       "    .dataframe tbody tr th {\n",
       "        vertical-align: top;\n",
       "    }\n",
       "\n",
       "    .dataframe thead th {\n",
       "        text-align: right;\n",
       "    }\n",
       "</style>\n",
       "<table border=\"1\" class=\"dataframe\">\n",
       "  <thead>\n",
       "    <tr style=\"text-align: right;\">\n",
       "      <th></th>\n",
       "      <th>index</th>\n",
       "      <th>0</th>\n",
       "      <th>1</th>\n",
       "      <th>2</th>\n",
       "      <th>3</th>\n",
       "      <th>4</th>\n",
       "      <th>5</th>\n",
       "      <th>6</th>\n",
       "      <th>7</th>\n",
       "      <th>8</th>\n",
       "      <th>...</th>\n",
       "      <th>183</th>\n",
       "      <th>184</th>\n",
       "      <th>185</th>\n",
       "      <th>186</th>\n",
       "      <th>187</th>\n",
       "      <th>188</th>\n",
       "      <th>189</th>\n",
       "      <th>190</th>\n",
       "      <th>191</th>\n",
       "      <th>192</th>\n",
       "    </tr>\n",
       "  </thead>\n",
       "  <tbody>\n",
       "    <tr>\n",
       "      <th>0</th>\n",
       "      <td>0</td>\n",
       "      <td>-75.095719</td>\n",
       "      <td>129.611846</td>\n",
       "      <td>-32.669898</td>\n",
       "      <td>15.285441</td>\n",
       "      <td>-2.378207</td>\n",
       "      <td>14.626390</td>\n",
       "      <td>-3.764634</td>\n",
       "      <td>17.962046</td>\n",
       "      <td>-2.011992</td>\n",
       "      <td>...</td>\n",
       "      <td>13.581584</td>\n",
       "      <td>15.363746</td>\n",
       "      <td>15.579746</td>\n",
       "      <td>35.387758</td>\n",
       "      <td>-0.004255</td>\n",
       "      <td>0.014481</td>\n",
       "      <td>-0.040944</td>\n",
       "      <td>0.001575</td>\n",
       "      <td>-0.005375</td>\n",
       "      <td>0.005263</td>\n",
       "    </tr>\n",
       "    <tr>\n",
       "      <th>1</th>\n",
       "      <td>1</td>\n",
       "      <td>-8.350567</td>\n",
       "      <td>113.704109</td>\n",
       "      <td>-19.147512</td>\n",
       "      <td>29.386994</td>\n",
       "      <td>-13.745963</td>\n",
       "      <td>7.170843</td>\n",
       "      <td>-12.804698</td>\n",
       "      <td>8.102789</td>\n",
       "      <td>-9.090141</td>\n",
       "      <td>...</td>\n",
       "      <td>17.756826</td>\n",
       "      <td>18.226822</td>\n",
       "      <td>16.085308</td>\n",
       "      <td>34.338946</td>\n",
       "      <td>0.003580</td>\n",
       "      <td>0.010518</td>\n",
       "      <td>-0.084111</td>\n",
       "      <td>-0.005364</td>\n",
       "      <td>0.002910</td>\n",
       "      <td>-0.001546</td>\n",
       "    </tr>\n",
       "    <tr>\n",
       "      <th>2</th>\n",
       "      <td>2</td>\n",
       "      <td>-115.225264</td>\n",
       "      <td>3.676715</td>\n",
       "      <td>-38.724517</td>\n",
       "      <td>-4.002133</td>\n",
       "      <td>-15.980845</td>\n",
       "      <td>-11.146253</td>\n",
       "      <td>1.778062</td>\n",
       "      <td>4.020408</td>\n",
       "      <td>-2.446081</td>\n",
       "      <td>...</td>\n",
       "      <td>14.026372</td>\n",
       "      <td>16.014877</td>\n",
       "      <td>17.438533</td>\n",
       "      <td>31.626253</td>\n",
       "      <td>0.001479</td>\n",
       "      <td>-0.004756</td>\n",
       "      <td>0.013443</td>\n",
       "      <td>0.027352</td>\n",
       "      <td>-0.009380</td>\n",
       "      <td>-0.004788</td>\n",
       "    </tr>\n",
       "    <tr>\n",
       "      <th>3</th>\n",
       "      <td>3</td>\n",
       "      <td>-211.840458</td>\n",
       "      <td>87.311125</td>\n",
       "      <td>-53.307992</td>\n",
       "      <td>10.788239</td>\n",
       "      <td>-46.073711</td>\n",
       "      <td>13.174044</td>\n",
       "      <td>20.365529</td>\n",
       "      <td>14.869042</td>\n",
       "      <td>0.525608</td>\n",
       "      <td>...</td>\n",
       "      <td>27.707668</td>\n",
       "      <td>21.865110</td>\n",
       "      <td>26.985700</td>\n",
       "      <td>42.099477</td>\n",
       "      <td>-0.000115</td>\n",
       "      <td>-0.036755</td>\n",
       "      <td>-0.126207</td>\n",
       "      <td>-0.032240</td>\n",
       "      <td>0.059965</td>\n",
       "      <td>-0.026851</td>\n",
       "    </tr>\n",
       "    <tr>\n",
       "      <th>4</th>\n",
       "      <td>4</td>\n",
       "      <td>-235.825635</td>\n",
       "      <td>132.952580</td>\n",
       "      <td>42.155849</td>\n",
       "      <td>18.454956</td>\n",
       "      <td>12.176050</td>\n",
       "      <td>11.412190</td>\n",
       "      <td>-1.725005</td>\n",
       "      <td>10.437025</td>\n",
       "      <td>-0.802941</td>\n",
       "      <td>...</td>\n",
       "      <td>16.328094</td>\n",
       "      <td>16.194166</td>\n",
       "      <td>16.016508</td>\n",
       "      <td>31.238708</td>\n",
       "      <td>-0.000755</td>\n",
       "      <td>0.010912</td>\n",
       "      <td>0.038104</td>\n",
       "      <td>-0.002897</td>\n",
       "      <td>-0.002296</td>\n",
       "      <td>-0.001802</td>\n",
       "    </tr>\n",
       "  </tbody>\n",
       "</table>\n",
       "<p>5 rows × 194 columns</p>\n",
       "</div>"
      ],
      "text/plain": [
       "   index           0           1          2          3          4          5  \\\n",
       "0      0  -75.095719  129.611846 -32.669898  15.285441  -2.378207  14.626390   \n",
       "1      1   -8.350567  113.704109 -19.147512  29.386994 -13.745963   7.170843   \n",
       "2      2 -115.225264    3.676715 -38.724517  -4.002133 -15.980845 -11.146253   \n",
       "3      3 -211.840458   87.311125 -53.307992  10.788239 -46.073711  13.174044   \n",
       "4      4 -235.825635  132.952580  42.155849  18.454956  12.176050  11.412190   \n",
       "\n",
       "           6          7         8    ...           183        184        185  \\\n",
       "0  -3.764634  17.962046 -2.011992    ...     13.581584  15.363746  15.579746   \n",
       "1 -12.804698   8.102789 -9.090141    ...     17.756826  18.226822  16.085308   \n",
       "2   1.778062   4.020408 -2.446081    ...     14.026372  16.014877  17.438533   \n",
       "3  20.365529  14.869042  0.525608    ...     27.707668  21.865110  26.985700   \n",
       "4  -1.725005  10.437025 -0.802941    ...     16.328094  16.194166  16.016508   \n",
       "\n",
       "         186       187       188       189       190       191       192  \n",
       "0  35.387758 -0.004255  0.014481 -0.040944  0.001575 -0.005375  0.005263  \n",
       "1  34.338946  0.003580  0.010518 -0.084111 -0.005364  0.002910 -0.001546  \n",
       "2  31.626253  0.001479 -0.004756  0.013443  0.027352 -0.009380 -0.004788  \n",
       "3  42.099477 -0.000115 -0.036755 -0.126207 -0.032240  0.059965 -0.026851  \n",
       "4  31.238708 -0.000755  0.010912  0.038104 -0.002897 -0.002296 -0.001802  \n",
       "\n",
       "[5 rows x 194 columns]"
      ]
     },
     "execution_count": 2,
     "metadata": {},
     "output_type": "execute_result"
    }
   ],
   "source": [
    "#Create an enging to connect to a SQLlite database and pull in the data\n",
    "disk_engine = create_engine('sqlite:///my_lite_store.db')\n",
    "db_df = pd.read_sql_query('SELECT * FROM wave_data',disk_engine)\n",
    "db_df.head()"
   ]
  },
  {
   "cell_type": "code",
   "execution_count": 3,
   "metadata": {},
   "outputs": [
    {
     "data": {
      "text/plain": [
       "[(0, 'siren'),\n",
       " (1, 'street_music'),\n",
       " (2, 'drilling'),\n",
       " (3, 'dog_bark'),\n",
       " (4, 'children_playing'),\n",
       " (5, 'gun_shot'),\n",
       " (6, 'engine_idling'),\n",
       " (7, 'air_conditioner'),\n",
       " (8, 'jackhammer'),\n",
       " (9, 'car_horn')]"
      ]
     },
     "execution_count": 3,
     "metadata": {},
     "output_type": "execute_result"
    }
   ],
   "source": [
    "#Pull in the train.csv data to create lables that will be used on the y axis\n",
    "df2 = pd.read_csv(\"train.csv\") \n",
    "labels = df2['Class']\n",
    "catalog = df2['Class'].unique().tolist()\n",
    "catalog = [i for i in enumerate(catalog)]\n",
    "catalog"
   ]
  },
  {
   "cell_type": "code",
   "execution_count": 4,
   "metadata": {},
   "outputs": [
    {
     "name": "stdout",
     "output_type": "stream",
     "text": [
      "(5435, 194) (5435, 1)\n"
     ]
    }
   ],
   "source": [
    "#Create X and Y for to model\n",
    "X = db_df.values\n",
    "y = labels.values.reshape(-1, 1)\n",
    "print(X.shape, y.shape)"
   ]
  },
  {
   "cell_type": "code",
   "execution_count": 5,
   "metadata": {},
   "outputs": [],
   "source": [
    "X_train, X_test, y_train, y_test = train_test_split(X, y, random_state=1)"
   ]
  },
  {
   "cell_type": "code",
   "execution_count": 34,
   "metadata": {},
   "outputs": [
    {
     "name": "stdout",
     "output_type": "stream",
     "text": [
      "0.7947019867549668\n"
     ]
    }
   ],
   "source": [
    "#model = SVC(kernel='linear')\n",
    "#model.fit(X_train, y_train)\n",
    "filename = 'finalized_model.sav'\n",
    "loaded_model = pickle.load(open(filename, 'rb'))\n",
    "result = loaded_model.score(X_test, y_test)\n",
    "predictions = loaded_model.predict(X_test)\n",
    "print(result)"
   ]
  },
  {
   "cell_type": "code",
   "execution_count": 42,
   "metadata": {
    "scrolled": true
   },
   "outputs": [
    {
     "data": {
      "text/plain": [
       "array([[0.98507463, 0.        , 0.        , 0.        , 0.        ,\n",
       "        0.        , 0.        , 0.00746269, 0.        , 0.00746269],\n",
       "       [0.01162791, 0.91860465, 0.        , 0.        , 0.01162791,\n",
       "        0.01162791, 0.        , 0.01162791, 0.        , 0.03488372],\n",
       "       [0.00684932, 0.        , 0.94520548, 0.01369863, 0.        ,\n",
       "        0.        , 0.        , 0.        , 0.00684932, 0.02739726],\n",
       "       [0.01242236, 0.0310559 , 0.0621118 , 0.83850932, 0.00621118,\n",
       "        0.00621118, 0.00621118, 0.        , 0.02484472, 0.01242236],\n",
       "       [0.01360544, 0.00680272, 0.01360544, 0.00680272, 0.93877551,\n",
       "        0.        , 0.        , 0.        , 0.00680272, 0.01360544],\n",
       "       [0.02      , 0.        , 0.        , 0.        , 0.00666667,\n",
       "        0.97333333, 0.        , 0.        , 0.        , 0.        ],\n",
       "       [0.        , 0.01492537, 0.        , 0.07462687, 0.01492537,\n",
       "        0.        , 0.89552239, 0.        , 0.        , 0.        ],\n",
       "       [0.        , 0.        , 0.        , 0.        , 0.        ,\n",
       "        0.00613497, 0.        , 0.99386503, 0.        , 0.        ],\n",
       "       [0.        , 0.05517241, 0.        , 0.        , 0.        ,\n",
       "        0.00689655, 0.        , 0.        , 0.93103448, 0.00689655],\n",
       "       [0.01875   , 0.00625   , 0.06875   , 0.025     , 0.        ,\n",
       "        0.        , 0.        , 0.        , 0.025     , 0.85625   ]])"
      ]
     },
     "execution_count": 42,
     "metadata": {},
     "output_type": "execute_result"
    }
   ],
   "source": [
    "import numpy as np\n",
    "from sklearn.metrics import confusion_matrix\n",
    "confusion = confusion_matrix(y_test,predictions)\n",
    "confusion = confusion.astype('float') / confusion.sum(axis=1)[:, np.newaxis]\n",
    "confusion"
   ]
  },
  {
   "cell_type": "code",
   "execution_count": 12,
   "metadata": {},
   "outputs": [
    {
     "data": {
      "image/png": "[encoded data removed]",
      "text/plain": [
       "<Figure size 1008x1008 with 2 Axes>"
      ]
     },
     "metadata": {},
     "output_type": "display_data"
    }
   ],
   "source": [
    "import seaborn as sn\n",
    "import matplotlib.pyplot as plt\n",
    "\n",
    "df_cm = pd.DataFrame(confusion, index = [i[1].replace('_',' ').capitalize() for i in catalog],\n",
    "                     columns  = [i[1].replace('_',' ').capitalize() for i in catalog])\n",
    "sn.set(font_scale=1.4)\n",
    "                     \n",
    "plt.figure(figsize= (14,14))\n",
    "plt.title('SVM Classification')\n",
    "sn.heatmap(df_cm, annot = True,cmap = 'Blues',annot_kws={\"size\":14}, fmt ='.0%')\n",
    "plt.savefig('heatmap.png')"
   ]
  },
  {
   "cell_type": "code",
   "execution_count": 13,
   "metadata": {},
   "outputs": [
    {
     "data": {
      "text/plain": [
       "array([[ 0.25615235,  0.09577068, -2.24342141, ..., -0.80565122,\n",
       "        -0.68081269, -1.2016843 ],\n",
       "       [-0.59585227,  0.06660377, -2.29975692, ..., -0.75102852,\n",
       "         0.15480878, -0.54675187],\n",
       "       [ 0.39158294, -1.42189232,  1.52632725, ...,  0.45146095,\n",
       "         0.11018965, -0.2108775 ],\n",
       "       ...,\n",
       "       [ 1.1037062 , -0.60935856,  0.37121701, ...,  0.45812541,\n",
       "        -0.5231408 ,  0.19913228],\n",
       "       [-1.18208232,  0.39927487,  0.09537103, ..., -0.21661331,\n",
       "        -1.05811129, -0.63340221],\n",
       "       [-1.16555088, -0.6517931 , -2.10554467, ..., -0.11020812,\n",
       "         1.04374613, -0.24807202]])"
      ]
     },
     "execution_count": 13,
     "metadata": {},
     "output_type": "execute_result"
    }
   ],
   "source": [
    "from sklearn.preprocessing import StandardScaler\n",
    "X_scaler = StandardScaler().fit(X_train)\n",
    "X_train_scaled = X_scaler.transform(X_train)\n",
    "X_test_scaled = X_scaler.transform(X_test)\n",
    "X_test_scaled"
   ]
  },
  {
   "cell_type": "code",
   "execution_count": 14,
   "metadata": {
    "collapsed": true
   },
   "outputs": [
    {
     "name": "stdout",
     "output_type": "stream",
     "text": [
      "Fitting 3 folds for each of 18 candidates, totalling 54 fits\n",
      "[CV] C=1, class_weight=balanced, gamma=0.0001, kernel=rbf ............\n"
     ]
    },
    {
     "name": "stderr",
     "output_type": "stream",
     "text": [
      "C:\\Users\\jcfis\\Anaconda3\\lib\\site-packages\\sklearn\\utils\\validation.py:578: DataConversionWarning: A column-vector y was passed when a 1d array was expected. Please change the shape of y to (n_samples, ), for example using ravel().\n",
      "  y = column_or_1d(y, warn=True)\n"
     ]
    },
    {
     "name": "stdout",
     "output_type": "stream",
     "text": [
      "[CV]  C=1, class_weight=balanced, gamma=0.0001, kernel=rbf, score=0.4020542920029347, total=   4.7s\n",
      "[CV] C=1, class_weight=balanced, gamma=0.0001, kernel=rbf ............\n"
     ]
    },
    {
     "name": "stderr",
     "output_type": "stream",
     "text": [
      "[Parallel(n_jobs=1)]: Done   1 out of   1 | elapsed:    6.7s remaining:    0.0s\n",
      "C:\\Users\\jcfis\\Anaconda3\\lib\\site-packages\\sklearn\\utils\\validation.py:578: DataConversionWarning: A column-vector y was passed when a 1d array was expected. Please change the shape of y to (n_samples, ), for example using ravel().\n",
      "  y = column_or_1d(y, warn=True)\n"
     ]
    },
    {
     "name": "stdout",
     "output_type": "stream",
     "text": [
      "[CV]  C=1, class_weight=balanced, gamma=0.0001, kernel=rbf, score=0.38614591009579957, total=   4.0s\n",
      "[CV] C=1, class_weight=balanced, gamma=0.0001, kernel=rbf ............\n"
     ]
    },
    {
     "name": "stderr",
     "output_type": "stream",
     "text": [
      "[Parallel(n_jobs=1)]: Done   2 out of   2 | elapsed:   12.5s remaining:    0.0s\n",
      "C:\\Users\\jcfis\\Anaconda3\\lib\\site-packages\\sklearn\\utils\\validation.py:578: DataConversionWarning: A column-vector y was passed when a 1d array was expected. Please change the shape of y to (n_samples, ), for example using ravel().\n",
      "  y = column_or_1d(y, warn=True)\n"
     ]
    },
    {
     "name": "stdout",
     "output_type": "stream",
     "text": [
      "[CV]  C=1, class_weight=balanced, gamma=0.0001, kernel=rbf, score=0.36504424778761063, total=   3.7s\n",
      "[CV] C=1, class_weight=balanced, gamma=0.0001, kernel=poly ...........\n"
     ]
    },
    {
     "name": "stderr",
     "output_type": "stream",
     "text": [
      "C:\\Users\\jcfis\\Anaconda3\\lib\\site-packages\\sklearn\\utils\\validation.py:578: DataConversionWarning: A column-vector y was passed when a 1d array was expected. Please change the shape of y to (n_samples, ), for example using ravel().\n",
      "  y = column_or_1d(y, warn=True)\n"
     ]
    },
    {
     "name": "stdout",
     "output_type": "stream",
     "text": [
      "[CV]  C=1, class_weight=balanced, gamma=0.0001, kernel=poly, score=0.11518708730741012, total=   3.6s\n",
      "[CV] C=1, class_weight=balanced, gamma=0.0001, kernel=poly ...........\n"
     ]
    },
    {
     "name": "stderr",
     "output_type": "stream",
     "text": [
      "C:\\Users\\jcfis\\Anaconda3\\lib\\site-packages\\sklearn\\utils\\validation.py:578: DataConversionWarning: A column-vector y was passed when a 1d array was expected. Please change the shape of y to (n_samples, ), for example using ravel().\n",
      "  y = column_or_1d(y, warn=True)\n"
     ]
    },
    {
     "name": "stdout",
     "output_type": "stream",
     "text": [
      "[CV]  C=1, class_weight=balanced, gamma=0.0001, kernel=poly, score=0.04863669859985262, total=   3.7s\n",
      "[CV] C=1, class_weight=balanced, gamma=0.0001, kernel=poly ...........\n"
     ]
    },
    {
     "name": "stderr",
     "output_type": "stream",
     "text": [
      "C:\\Users\\jcfis\\Anaconda3\\lib\\site-packages\\sklearn\\utils\\validation.py:578: DataConversionWarning: A column-vector y was passed when a 1d array was expected. Please change the shape of y to (n_samples, ), for example using ravel().\n",
      "  y = column_or_1d(y, warn=True)\n"
     ]
    },
    {
     "name": "stdout",
     "output_type": "stream",
     "text": [
      "[CV]  C=1, class_weight=balanced, gamma=0.0001, kernel=poly, score=0.04498525073746313, total=   3.8s\n",
      "[CV] C=1, class_weight=balanced, gamma=0.001, kernel=rbf .............\n"
     ]
    },
    {
     "name": "stderr",
     "output_type": "stream",
     "text": [
      "C:\\Users\\jcfis\\Anaconda3\\lib\\site-packages\\sklearn\\utils\\validation.py:578: DataConversionWarning: A column-vector y was passed when a 1d array was expected. Please change the shape of y to (n_samples, ), for example using ravel().\n",
      "  y = column_or_1d(y, warn=True)\n"
     ]
    },
    {
     "name": "stdout",
     "output_type": "stream",
     "text": [
      "[CV]  C=1, class_weight=balanced, gamma=0.001, kernel=rbf, score=0.677916360968452, total=   2.6s\n",
      "[CV] C=1, class_weight=balanced, gamma=0.001, kernel=rbf .............\n"
     ]
    },
    {
     "name": "stderr",
     "output_type": "stream",
     "text": [
      "C:\\Users\\jcfis\\Anaconda3\\lib\\site-packages\\sklearn\\utils\\validation.py:578: DataConversionWarning: A column-vector y was passed when a 1d array was expected. Please change the shape of y to (n_samples, ), for example using ravel().\n",
      "  y = column_or_1d(y, warn=True)\n"
     ]
    },
    {
     "name": "stdout",
     "output_type": "stream",
     "text": [
      "[CV]  C=1, class_weight=balanced, gamma=0.001, kernel=rbf, score=0.7030213706705969, total=   2.6s\n",
      "[CV] C=1, class_weight=balanced, gamma=0.001, kernel=rbf .............\n"
     ]
    },
    {
     "name": "stderr",
     "output_type": "stream",
     "text": [
      "C:\\Users\\jcfis\\Anaconda3\\lib\\site-packages\\sklearn\\utils\\validation.py:578: DataConversionWarning: A column-vector y was passed when a 1d array was expected. Please change the shape of y to (n_samples, ), for example using ravel().\n",
      "  y = column_or_1d(y, warn=True)\n"
     ]
    },
    {
     "name": "stdout",
     "output_type": "stream",
     "text": [
      "[CV]  C=1, class_weight=balanced, gamma=0.001, kernel=rbf, score=0.7013274336283186, total=   2.6s\n",
      "[CV] C=1, class_weight=balanced, gamma=0.001, kernel=poly ............\n"
     ]
    },
    {
     "name": "stderr",
     "output_type": "stream",
     "text": [
      "C:\\Users\\jcfis\\Anaconda3\\lib\\site-packages\\sklearn\\utils\\validation.py:578: DataConversionWarning: A column-vector y was passed when a 1d array was expected. Please change the shape of y to (n_samples, ), for example using ravel().\n",
      "  y = column_or_1d(y, warn=True)\n"
     ]
    },
    {
     "name": "stdout",
     "output_type": "stream",
     "text": [
      "[CV]  C=1, class_weight=balanced, gamma=0.001, kernel=poly, score=0.15113719735876743, total=   3.6s\n",
      "[CV] C=1, class_weight=balanced, gamma=0.001, kernel=poly ............\n"
     ]
    },
    {
     "name": "stderr",
     "output_type": "stream",
     "text": [
      "C:\\Users\\jcfis\\Anaconda3\\lib\\site-packages\\sklearn\\utils\\validation.py:578: DataConversionWarning: A column-vector y was passed when a 1d array was expected. Please change the shape of y to (n_samples, ), for example using ravel().\n",
      "  y = column_or_1d(y, warn=True)\n"
     ]
    },
    {
     "name": "stdout",
     "output_type": "stream",
     "text": [
      "[CV]  C=1, class_weight=balanced, gamma=0.001, kernel=poly, score=0.061164333087693444, total=   3.6s\n",
      "[CV] C=1, class_weight=balanced, gamma=0.001, kernel=poly ............\n"
     ]
    },
    {
     "name": "stderr",
     "output_type": "stream",
     "text": [
      "C:\\Users\\jcfis\\Anaconda3\\lib\\site-packages\\sklearn\\utils\\validation.py:578: DataConversionWarning: A column-vector y was passed when a 1d array was expected. Please change the shape of y to (n_samples, ), for example using ravel().\n",
      "  y = column_or_1d(y, warn=True)\n"
     ]
    },
    {
     "name": "stdout",
     "output_type": "stream",
     "text": [
      "[CV]  C=1, class_weight=balanced, gamma=0.001, kernel=poly, score=0.051622418879056046, total=   3.6s\n",
      "[CV] C=1, class_weight=balanced, gamma=0.01, kernel=rbf ..............\n"
     ]
    },
    {
     "name": "stderr",
     "output_type": "stream",
     "text": [
      "C:\\Users\\jcfis\\Anaconda3\\lib\\site-packages\\sklearn\\utils\\validation.py:578: DataConversionWarning: A column-vector y was passed when a 1d array was expected. Please change the shape of y to (n_samples, ), for example using ravel().\n",
      "  y = column_or_1d(y, warn=True)\n"
     ]
    },
    {
     "name": "stdout",
     "output_type": "stream",
     "text": [
      "[CV]  C=1, class_weight=balanced, gamma=0.01, kernel=rbf, score=0.8466617754952311, total=   1.9s\n",
      "[CV] C=1, class_weight=balanced, gamma=0.01, kernel=rbf ..............\n"
     ]
    },
    {
     "name": "stderr",
     "output_type": "stream",
     "text": [
      "C:\\Users\\jcfis\\Anaconda3\\lib\\site-packages\\sklearn\\utils\\validation.py:578: DataConversionWarning: A column-vector y was passed when a 1d array was expected. Please change the shape of y to (n_samples, ), for example using ravel().\n",
      "  y = column_or_1d(y, warn=True)\n"
     ]
    },
    {
     "name": "stdout",
     "output_type": "stream",
     "text": [
      "[CV]  C=1, class_weight=balanced, gamma=0.01, kernel=rbf, score=0.8282977155490051, total=   1.9s\n",
      "[CV] C=1, class_weight=balanced, gamma=0.01, kernel=rbf ..............\n"
     ]
    },
    {
     "name": "stderr",
     "output_type": "stream",
     "text": [
      "C:\\Users\\jcfis\\Anaconda3\\lib\\site-packages\\sklearn\\utils\\validation.py:578: DataConversionWarning: A column-vector y was passed when a 1d array was expected. Please change the shape of y to (n_samples, ), for example using ravel().\n",
      "  y = column_or_1d(y, warn=True)\n"
     ]
    },
    {
     "name": "stdout",
     "output_type": "stream",
     "text": [
      "[CV]  C=1, class_weight=balanced, gamma=0.01, kernel=rbf, score=0.8613569321533924, total=   2.2s\n",
      "[CV] C=1, class_weight=balanced, gamma=0.01, kernel=poly .............\n"
     ]
    },
    {
     "name": "stderr",
     "output_type": "stream",
     "text": [
      "C:\\Users\\jcfis\\Anaconda3\\lib\\site-packages\\sklearn\\utils\\validation.py:578: DataConversionWarning: A column-vector y was passed when a 1d array was expected. Please change the shape of y to (n_samples, ), for example using ravel().\n",
      "  y = column_or_1d(y, warn=True)\n"
     ]
    },
    {
     "name": "stdout",
     "output_type": "stream",
     "text": [
      "[CV]  C=1, class_weight=balanced, gamma=0.01, kernel=poly, score=0.6023477622890683, total=   3.1s\n",
      "[CV] C=1, class_weight=balanced, gamma=0.01, kernel=poly .............\n"
     ]
    },
    {
     "name": "stderr",
     "output_type": "stream",
     "text": [
      "C:\\Users\\jcfis\\Anaconda3\\lib\\site-packages\\sklearn\\utils\\validation.py:578: DataConversionWarning: A column-vector y was passed when a 1d array was expected. Please change the shape of y to (n_samples, ), for example using ravel().\n",
      "  y = column_or_1d(y, warn=True)\n"
     ]
    },
    {
     "name": "stdout",
     "output_type": "stream",
     "text": [
      "[CV]  C=1, class_weight=balanced, gamma=0.01, kernel=poly, score=0.5799557848194546, total=   3.1s\n",
      "[CV] C=1, class_weight=balanced, gamma=0.01, kernel=poly .............\n"
     ]
    },
    {
     "name": "stderr",
     "output_type": "stream",
     "text": [
      "C:\\Users\\jcfis\\Anaconda3\\lib\\site-packages\\sklearn\\utils\\validation.py:578: DataConversionWarning: A column-vector y was passed when a 1d array was expected. Please change the shape of y to (n_samples, ), for example using ravel().\n",
      "  y = column_or_1d(y, warn=True)\n"
     ]
    },
    {
     "name": "stdout",
     "output_type": "stream",
     "text": [
      "[CV]  C=1, class_weight=balanced, gamma=0.01, kernel=poly, score=0.5980825958702065, total=   3.6s\n",
      "[CV] C=5, class_weight=balanced, gamma=0.0001, kernel=rbf ............\n"
     ]
    },
    {
     "name": "stderr",
     "output_type": "stream",
     "text": [
      "C:\\Users\\jcfis\\Anaconda3\\lib\\site-packages\\sklearn\\utils\\validation.py:578: DataConversionWarning: A column-vector y was passed when a 1d array was expected. Please change the shape of y to (n_samples, ), for example using ravel().\n",
      "  y = column_or_1d(y, warn=True)\n"
     ]
    },
    {
     "name": "stdout",
     "output_type": "stream",
     "text": [
      "[CV]  C=5, class_weight=balanced, gamma=0.0001, kernel=rbf, score=0.6316947909024211, total=   4.5s\n",
      "[CV] C=5, class_weight=balanced, gamma=0.0001, kernel=rbf ............\n"
     ]
    },
    {
     "name": "stderr",
     "output_type": "stream",
     "text": [
      "C:\\Users\\jcfis\\Anaconda3\\lib\\site-packages\\sklearn\\utils\\validation.py:578: DataConversionWarning: A column-vector y was passed when a 1d array was expected. Please change the shape of y to (n_samples, ), for example using ravel().\n",
      "  y = column_or_1d(y, warn=True)\n"
     ]
    },
    {
     "name": "stdout",
     "output_type": "stream",
     "text": [
      "[CV]  C=5, class_weight=balanced, gamma=0.0001, kernel=rbf, score=0.6219602063375093, total=   5.0s\n",
      "[CV] C=5, class_weight=balanced, gamma=0.0001, kernel=rbf ............\n"
     ]
    },
    {
     "name": "stderr",
     "output_type": "stream",
     "text": [
      "C:\\Users\\jcfis\\Anaconda3\\lib\\site-packages\\sklearn\\utils\\validation.py:578: DataConversionWarning: A column-vector y was passed when a 1d array was expected. Please change the shape of y to (n_samples, ), for example using ravel().\n",
      "  y = column_or_1d(y, warn=True)\n"
     ]
    },
    {
     "name": "stdout",
     "output_type": "stream",
     "text": [
      "[CV]  C=5, class_weight=balanced, gamma=0.0001, kernel=rbf, score=0.6283185840707964, total=   4.1s\n",
      "[CV] C=5, class_weight=balanced, gamma=0.0001, kernel=poly ...........\n"
     ]
    },
    {
     "name": "stderr",
     "output_type": "stream",
     "text": [
      "C:\\Users\\jcfis\\Anaconda3\\lib\\site-packages\\sklearn\\utils\\validation.py:578: DataConversionWarning: A column-vector y was passed when a 1d array was expected. Please change the shape of y to (n_samples, ), for example using ravel().\n",
      "  y = column_or_1d(y, warn=True)\n"
     ]
    },
    {
     "name": "stdout",
     "output_type": "stream",
     "text": [
      "[CV]  C=5, class_weight=balanced, gamma=0.0001, kernel=poly, score=0.11665443873807776, total=   4.7s\n",
      "[CV] C=5, class_weight=balanced, gamma=0.0001, kernel=poly ...........\n"
     ]
    },
    {
     "name": "stderr",
     "output_type": "stream",
     "text": [
      "C:\\Users\\jcfis\\Anaconda3\\lib\\site-packages\\sklearn\\utils\\validation.py:578: DataConversionWarning: A column-vector y was passed when a 1d array was expected. Please change the shape of y to (n_samples, ), for example using ravel().\n",
      "  y = column_or_1d(y, warn=True)\n"
     ]
    },
    {
     "name": "stdout",
     "output_type": "stream",
     "text": [
      "[CV]  C=5, class_weight=balanced, gamma=0.0001, kernel=poly, score=0.050110537951363304, total=   3.6s\n",
      "[CV] C=5, class_weight=balanced, gamma=0.0001, kernel=poly ...........\n"
     ]
    },
    {
     "name": "stderr",
     "output_type": "stream",
     "text": [
      "C:\\Users\\jcfis\\Anaconda3\\lib\\site-packages\\sklearn\\utils\\validation.py:578: DataConversionWarning: A column-vector y was passed when a 1d array was expected. Please change the shape of y to (n_samples, ), for example using ravel().\n",
      "  y = column_or_1d(y, warn=True)\n"
     ]
    },
    {
     "name": "stdout",
     "output_type": "stream",
     "text": [
      "[CV]  C=5, class_weight=balanced, gamma=0.0001, kernel=poly, score=0.1172566371681416, total=   3.6s\n",
      "[CV] C=5, class_weight=balanced, gamma=0.001, kernel=rbf .............\n"
     ]
    },
    {
     "name": "stderr",
     "output_type": "stream",
     "text": [
      "C:\\Users\\jcfis\\Anaconda3\\lib\\site-packages\\sklearn\\utils\\validation.py:578: DataConversionWarning: A column-vector y was passed when a 1d array was expected. Please change the shape of y to (n_samples, ), for example using ravel().\n",
      "  y = column_or_1d(y, warn=True)\n"
     ]
    },
    {
     "name": "stdout",
     "output_type": "stream",
     "text": [
      "[CV]  C=5, class_weight=balanced, gamma=0.001, kernel=rbf, score=0.7835656639765224, total=   1.8s\n",
      "[CV] C=5, class_weight=balanced, gamma=0.001, kernel=rbf .............\n"
     ]
    },
    {
     "name": "stderr",
     "output_type": "stream",
     "text": [
      "C:\\Users\\jcfis\\Anaconda3\\lib\\site-packages\\sklearn\\utils\\validation.py:578: DataConversionWarning: A column-vector y was passed when a 1d array was expected. Please change the shape of y to (n_samples, ), for example using ravel().\n",
      "  y = column_or_1d(y, warn=True)\n"
     ]
    },
    {
     "name": "stdout",
     "output_type": "stream",
     "text": [
      "[CV]  C=5, class_weight=balanced, gamma=0.001, kernel=rbf, score=0.7862932940309506, total=   1.8s\n",
      "[CV] C=5, class_weight=balanced, gamma=0.001, kernel=rbf .............\n"
     ]
    },
    {
     "name": "stderr",
     "output_type": "stream",
     "text": [
      "C:\\Users\\jcfis\\Anaconda3\\lib\\site-packages\\sklearn\\utils\\validation.py:578: DataConversionWarning: A column-vector y was passed when a 1d array was expected. Please change the shape of y to (n_samples, ), for example using ravel().\n",
      "  y = column_or_1d(y, warn=True)\n"
     ]
    },
    {
     "name": "stdout",
     "output_type": "stream",
     "text": [
      "[CV]  C=5, class_weight=balanced, gamma=0.001, kernel=rbf, score=0.7964601769911505, total=   1.8s\n",
      "[CV] C=5, class_weight=balanced, gamma=0.001, kernel=poly ............\n"
     ]
    },
    {
     "name": "stderr",
     "output_type": "stream",
     "text": [
      "C:\\Users\\jcfis\\Anaconda3\\lib\\site-packages\\sklearn\\utils\\validation.py:578: DataConversionWarning: A column-vector y was passed when a 1d array was expected. Please change the shape of y to (n_samples, ), for example using ravel().\n",
      "  y = column_or_1d(y, warn=True)\n"
     ]
    },
    {
     "name": "stdout",
     "output_type": "stream",
     "text": [
      "[CV]  C=5, class_weight=balanced, gamma=0.001, kernel=poly, score=0.16067498165810712, total=   3.5s\n",
      "[CV] C=5, class_weight=balanced, gamma=0.001, kernel=poly ............\n"
     ]
    },
    {
     "name": "stderr",
     "output_type": "stream",
     "text": [
      "C:\\Users\\jcfis\\Anaconda3\\lib\\site-packages\\sklearn\\utils\\validation.py:578: DataConversionWarning: A column-vector y was passed when a 1d array was expected. Please change the shape of y to (n_samples, ), for example using ravel().\n",
      "  y = column_or_1d(y, warn=True)\n"
     ]
    },
    {
     "name": "stdout",
     "output_type": "stream",
     "text": [
      "[CV]  C=5, class_weight=balanced, gamma=0.001, kernel=poly, score=0.15991156963890935, total=   3.6s\n",
      "[CV] C=5, class_weight=balanced, gamma=0.001, kernel=poly ............\n"
     ]
    },
    {
     "name": "stderr",
     "output_type": "stream",
     "text": [
      "C:\\Users\\jcfis\\Anaconda3\\lib\\site-packages\\sklearn\\utils\\validation.py:578: DataConversionWarning: A column-vector y was passed when a 1d array was expected. Please change the shape of y to (n_samples, ), for example using ravel().\n",
      "  y = column_or_1d(y, warn=True)\n"
     ]
    },
    {
     "name": "stdout",
     "output_type": "stream",
     "text": [
      "[CV]  C=5, class_weight=balanced, gamma=0.001, kernel=poly, score=0.14454277286135694, total=   3.5s\n",
      "[CV] C=5, class_weight=balanced, gamma=0.01, kernel=rbf ..............\n"
     ]
    },
    {
     "name": "stderr",
     "output_type": "stream",
     "text": [
      "C:\\Users\\jcfis\\Anaconda3\\lib\\site-packages\\sklearn\\utils\\validation.py:578: DataConversionWarning: A column-vector y was passed when a 1d array was expected. Please change the shape of y to (n_samples, ), for example using ravel().\n",
      "  y = column_or_1d(y, warn=True)\n"
     ]
    },
    {
     "name": "stdout",
     "output_type": "stream",
     "text": [
      "[CV]  C=5, class_weight=balanced, gamma=0.01, kernel=rbf, score=0.9053558327219369, total=   1.6s\n",
      "[CV] C=5, class_weight=balanced, gamma=0.01, kernel=rbf ..............\n"
     ]
    },
    {
     "name": "stderr",
     "output_type": "stream",
     "text": [
      "C:\\Users\\jcfis\\Anaconda3\\lib\\site-packages\\sklearn\\utils\\validation.py:578: DataConversionWarning: A column-vector y was passed when a 1d array was expected. Please change the shape of y to (n_samples, ), for example using ravel().\n",
      "  y = column_or_1d(y, warn=True)\n"
     ]
    },
    {
     "name": "stdout",
     "output_type": "stream",
     "text": [
      "[CV]  C=5, class_weight=balanced, gamma=0.01, kernel=rbf, score=0.8887251289609432, total=   1.6s\n",
      "[CV] C=5, class_weight=balanced, gamma=0.01, kernel=rbf ..............\n"
     ]
    },
    {
     "name": "stderr",
     "output_type": "stream",
     "text": [
      "C:\\Users\\jcfis\\Anaconda3\\lib\\site-packages\\sklearn\\utils\\validation.py:578: DataConversionWarning: A column-vector y was passed when a 1d array was expected. Please change the shape of y to (n_samples, ), for example using ravel().\n",
      "  y = column_or_1d(y, warn=True)\n"
     ]
    },
    {
     "name": "stdout",
     "output_type": "stream",
     "text": [
      "[CV]  C=5, class_weight=balanced, gamma=0.01, kernel=rbf, score=0.9048672566371682, total=   1.6s\n",
      "[CV] C=5, class_weight=balanced, gamma=0.01, kernel=poly .............\n"
     ]
    },
    {
     "name": "stderr",
     "output_type": "stream",
     "text": [
      "C:\\Users\\jcfis\\Anaconda3\\lib\\site-packages\\sklearn\\utils\\validation.py:578: DataConversionWarning: A column-vector y was passed when a 1d array was expected. Please change the shape of y to (n_samples, ), for example using ravel().\n",
      "  y = column_or_1d(y, warn=True)\n"
     ]
    },
    {
     "name": "stdout",
     "output_type": "stream",
     "text": [
      "[CV]  C=5, class_weight=balanced, gamma=0.01, kernel=poly, score=0.7754952311078503, total=   2.2s\n",
      "[CV] C=5, class_weight=balanced, gamma=0.01, kernel=poly .............\n"
     ]
    },
    {
     "name": "stderr",
     "output_type": "stream",
     "text": [
      "C:\\Users\\jcfis\\Anaconda3\\lib\\site-packages\\sklearn\\utils\\validation.py:578: DataConversionWarning: A column-vector y was passed when a 1d array was expected. Please change the shape of y to (n_samples, ), for example using ravel().\n",
      "  y = column_or_1d(y, warn=True)\n"
     ]
    },
    {
     "name": "stdout",
     "output_type": "stream",
     "text": [
      "[CV]  C=5, class_weight=balanced, gamma=0.01, kernel=poly, score=0.7538688282977155, total=   2.1s\n",
      "[CV] C=5, class_weight=balanced, gamma=0.01, kernel=poly .............\n"
     ]
    },
    {
     "name": "stderr",
     "output_type": "stream",
     "text": [
      "C:\\Users\\jcfis\\Anaconda3\\lib\\site-packages\\sklearn\\utils\\validation.py:578: DataConversionWarning: A column-vector y was passed when a 1d array was expected. Please change the shape of y to (n_samples, ), for example using ravel().\n",
      "  y = column_or_1d(y, warn=True)\n"
     ]
    },
    {
     "name": "stdout",
     "output_type": "stream",
     "text": [
      "[CV]  C=5, class_weight=balanced, gamma=0.01, kernel=poly, score=0.7684365781710915, total=   2.1s\n",
      "[CV] C=10, class_weight=balanced, gamma=0.0001, kernel=rbf ...........\n"
     ]
    },
    {
     "name": "stderr",
     "output_type": "stream",
     "text": [
      "C:\\Users\\jcfis\\Anaconda3\\lib\\site-packages\\sklearn\\utils\\validation.py:578: DataConversionWarning: A column-vector y was passed when a 1d array was expected. Please change the shape of y to (n_samples, ), for example using ravel().\n",
      "  y = column_or_1d(y, warn=True)\n"
     ]
    },
    {
     "name": "stdout",
     "output_type": "stream",
     "text": [
      "[CV]  C=10, class_weight=balanced, gamma=0.0001, kernel=rbf, score=0.6757153338224505, total=   2.5s\n",
      "[CV] C=10, class_weight=balanced, gamma=0.0001, kernel=rbf ...........\n"
     ]
    },
    {
     "name": "stderr",
     "output_type": "stream",
     "text": [
      "C:\\Users\\jcfis\\Anaconda3\\lib\\site-packages\\sklearn\\utils\\validation.py:578: DataConversionWarning: A column-vector y was passed when a 1d array was expected. Please change the shape of y to (n_samples, ), for example using ravel().\n",
      "  y = column_or_1d(y, warn=True)\n"
     ]
    },
    {
     "name": "stdout",
     "output_type": "stream",
     "text": [
      "[CV]  C=10, class_weight=balanced, gamma=0.0001, kernel=rbf, score=0.6845983787767134, total=   2.5s\n",
      "[CV] C=10, class_weight=balanced, gamma=0.0001, kernel=rbf ...........\n"
     ]
    },
    {
     "name": "stderr",
     "output_type": "stream",
     "text": [
      "C:\\Users\\jcfis\\Anaconda3\\lib\\site-packages\\sklearn\\utils\\validation.py:578: DataConversionWarning: A column-vector y was passed when a 1d array was expected. Please change the shape of y to (n_samples, ), for example using ravel().\n",
      "  y = column_or_1d(y, warn=True)\n"
     ]
    },
    {
     "name": "stdout",
     "output_type": "stream",
     "text": [
      "[CV]  C=10, class_weight=balanced, gamma=0.0001, kernel=rbf, score=0.6917404129793511, total=   2.5s\n",
      "[CV] C=10, class_weight=balanced, gamma=0.0001, kernel=poly ..........\n"
     ]
    },
    {
     "name": "stderr",
     "output_type": "stream",
     "text": [
      "C:\\Users\\jcfis\\Anaconda3\\lib\\site-packages\\sklearn\\utils\\validation.py:578: DataConversionWarning: A column-vector y was passed when a 1d array was expected. Please change the shape of y to (n_samples, ), for example using ravel().\n",
      "  y = column_or_1d(y, warn=True)\n"
     ]
    },
    {
     "name": "stdout",
     "output_type": "stream",
     "text": [
      "[CV]  C=10, class_weight=balanced, gamma=0.0001, kernel=poly, score=0.13426265590608952, total=   3.6s\n",
      "[CV] C=10, class_weight=balanced, gamma=0.0001, kernel=poly ..........\n"
     ]
    },
    {
     "name": "stderr",
     "output_type": "stream",
     "text": [
      "C:\\Users\\jcfis\\Anaconda3\\lib\\site-packages\\sklearn\\utils\\validation.py:578: DataConversionWarning: A column-vector y was passed when a 1d array was expected. Please change the shape of y to (n_samples, ), for example using ravel().\n",
      "  y = column_or_1d(y, warn=True)\n"
     ]
    },
    {
     "name": "stdout",
     "output_type": "stream",
     "text": [
      "[CV]  C=10, class_weight=balanced, gamma=0.0001, kernel=poly, score=0.050110537951363304, total=   3.9s\n",
      "[CV] C=10, class_weight=balanced, gamma=0.0001, kernel=poly ..........\n"
     ]
    },
    {
     "name": "stderr",
     "output_type": "stream",
     "text": [
      "C:\\Users\\jcfis\\Anaconda3\\lib\\site-packages\\sklearn\\utils\\validation.py:578: DataConversionWarning: A column-vector y was passed when a 1d array was expected. Please change the shape of y to (n_samples, ), for example using ravel().\n",
      "  y = column_or_1d(y, warn=True)\n"
     ]
    },
    {
     "name": "stdout",
     "output_type": "stream",
     "text": [
      "[CV]  C=10, class_weight=balanced, gamma=0.0001, kernel=poly, score=0.1172566371681416, total=   4.5s\n",
      "[CV] C=10, class_weight=balanced, gamma=0.001, kernel=rbf ............\n"
     ]
    },
    {
     "name": "stderr",
     "output_type": "stream",
     "text": [
      "C:\\Users\\jcfis\\Anaconda3\\lib\\site-packages\\sklearn\\utils\\validation.py:578: DataConversionWarning: A column-vector y was passed when a 1d array was expected. Please change the shape of y to (n_samples, ), for example using ravel().\n",
      "  y = column_or_1d(y, warn=True)\n"
     ]
    },
    {
     "name": "stdout",
     "output_type": "stream",
     "text": [
      "[CV]  C=10, class_weight=balanced, gamma=0.001, kernel=rbf, score=0.8136463683052091, total=   2.0s\n",
      "[CV] C=10, class_weight=balanced, gamma=0.001, kernel=rbf ............\n"
     ]
    },
    {
     "name": "stderr",
     "output_type": "stream",
     "text": [
      "C:\\Users\\jcfis\\Anaconda3\\lib\\site-packages\\sklearn\\utils\\validation.py:578: DataConversionWarning: A column-vector y was passed when a 1d array was expected. Please change the shape of y to (n_samples, ), for example using ravel().\n",
      "  y = column_or_1d(y, warn=True)\n"
     ]
    },
    {
     "name": "stdout",
     "output_type": "stream",
     "text": [
      "[CV]  C=10, class_weight=balanced, gamma=0.001, kernel=rbf, score=0.8061901252763449, total=   2.2s\n",
      "[CV] C=10, class_weight=balanced, gamma=0.001, kernel=rbf ............\n"
     ]
    },
    {
     "name": "stderr",
     "output_type": "stream",
     "text": [
      "C:\\Users\\jcfis\\Anaconda3\\lib\\site-packages\\sklearn\\utils\\validation.py:578: DataConversionWarning: A column-vector y was passed when a 1d array was expected. Please change the shape of y to (n_samples, ), for example using ravel().\n",
      "  y = column_or_1d(y, warn=True)\n"
     ]
    },
    {
     "name": "stdout",
     "output_type": "stream",
     "text": [
      "[CV]  C=10, class_weight=balanced, gamma=0.001, kernel=rbf, score=0.8119469026548672, total=   2.3s\n",
      "[CV] C=10, class_weight=balanced, gamma=0.001, kernel=poly ...........\n"
     ]
    },
    {
     "name": "stderr",
     "output_type": "stream",
     "text": [
      "C:\\Users\\jcfis\\Anaconda3\\lib\\site-packages\\sklearn\\utils\\validation.py:578: DataConversionWarning: A column-vector y was passed when a 1d array was expected. Please change the shape of y to (n_samples, ), for example using ravel().\n",
      "  y = column_or_1d(y, warn=True)\n"
     ]
    },
    {
     "name": "stdout",
     "output_type": "stream",
     "text": [
      "[CV]  C=10, class_weight=balanced, gamma=0.001, kernel=poly, score=0.16874541452677916, total=   5.2s\n",
      "[CV] C=10, class_weight=balanced, gamma=0.001, kernel=poly ...........\n"
     ]
    },
    {
     "name": "stderr",
     "output_type": "stream",
     "text": [
      "C:\\Users\\jcfis\\Anaconda3\\lib\\site-packages\\sklearn\\utils\\validation.py:578: DataConversionWarning: A column-vector y was passed when a 1d array was expected. Please change the shape of y to (n_samples, ), for example using ravel().\n",
      "  y = column_or_1d(y, warn=True)\n"
     ]
    },
    {
     "name": "stdout",
     "output_type": "stream",
     "text": [
      "[CV]  C=10, class_weight=balanced, gamma=0.001, kernel=poly, score=0.09137803979366249, total=   5.2s\n",
      "[CV] C=10, class_weight=balanced, gamma=0.001, kernel=poly ...........\n"
     ]
    },
    {
     "name": "stderr",
     "output_type": "stream",
     "text": [
      "C:\\Users\\jcfis\\Anaconda3\\lib\\site-packages\\sklearn\\utils\\validation.py:578: DataConversionWarning: A column-vector y was passed when a 1d array was expected. Please change the shape of y to (n_samples, ), for example using ravel().\n",
      "  y = column_or_1d(y, warn=True)\n"
     ]
    },
    {
     "name": "stdout",
     "output_type": "stream",
     "text": [
      "[CV]  C=10, class_weight=balanced, gamma=0.001, kernel=poly, score=0.16297935103244837, total=   4.9s\n",
      "[CV] C=10, class_weight=balanced, gamma=0.01, kernel=rbf .............\n"
     ]
    },
    {
     "name": "stderr",
     "output_type": "stream",
     "text": [
      "C:\\Users\\jcfis\\Anaconda3\\lib\\site-packages\\sklearn\\utils\\validation.py:578: DataConversionWarning: A column-vector y was passed when a 1d array was expected. Please change the shape of y to (n_samples, ), for example using ravel().\n",
      "  y = column_or_1d(y, warn=True)\n"
     ]
    },
    {
     "name": "stdout",
     "output_type": "stream",
     "text": [
      "[CV]  C=10, class_weight=balanced, gamma=0.01, kernel=rbf, score=0.9156272927366104, total=   2.1s\n",
      "[CV] C=10, class_weight=balanced, gamma=0.01, kernel=rbf .............\n"
     ]
    },
    {
     "name": "stderr",
     "output_type": "stream",
     "text": [
      "C:\\Users\\jcfis\\Anaconda3\\lib\\site-packages\\sklearn\\utils\\validation.py:578: DataConversionWarning: A column-vector y was passed when a 1d array was expected. Please change the shape of y to (n_samples, ), for example using ravel().\n",
      "  y = column_or_1d(y, warn=True)\n"
     ]
    },
    {
     "name": "stdout",
     "output_type": "stream",
     "text": [
      "[CV]  C=10, class_weight=balanced, gamma=0.01, kernel=rbf, score=0.9056742815033162, total=   1.9s\n",
      "[CV] C=10, class_weight=balanced, gamma=0.01, kernel=rbf .............\n"
     ]
    },
    {
     "name": "stderr",
     "output_type": "stream",
     "text": [
      "C:\\Users\\jcfis\\Anaconda3\\lib\\site-packages\\sklearn\\utils\\validation.py:578: DataConversionWarning: A column-vector y was passed when a 1d array was expected. Please change the shape of y to (n_samples, ), for example using ravel().\n",
      "  y = column_or_1d(y, warn=True)\n"
     ]
    },
    {
     "name": "stdout",
     "output_type": "stream",
     "text": [
      "[CV]  C=10, class_weight=balanced, gamma=0.01, kernel=rbf, score=0.9092920353982301, total=   1.9s\n",
      "[CV] C=10, class_weight=balanced, gamma=0.01, kernel=poly ............\n"
     ]
    },
    {
     "name": "stderr",
     "output_type": "stream",
     "text": [
      "C:\\Users\\jcfis\\Anaconda3\\lib\\site-packages\\sklearn\\utils\\validation.py:578: DataConversionWarning: A column-vector y was passed when a 1d array was expected. Please change the shape of y to (n_samples, ), for example using ravel().\n",
      "  y = column_or_1d(y, warn=True)\n"
     ]
    },
    {
     "name": "stdout",
     "output_type": "stream",
     "text": [
      "[CV]  C=10, class_weight=balanced, gamma=0.01, kernel=poly, score=0.8283198826118855, total=   1.9s\n",
      "[CV] C=10, class_weight=balanced, gamma=0.01, kernel=poly ............\n"
     ]
    },
    {
     "name": "stderr",
     "output_type": "stream",
     "text": [
      "C:\\Users\\jcfis\\Anaconda3\\lib\\site-packages\\sklearn\\utils\\validation.py:578: DataConversionWarning: A column-vector y was passed when a 1d array was expected. Please change the shape of y to (n_samples, ), for example using ravel().\n",
      "  y = column_or_1d(y, warn=True)\n"
     ]
    },
    {
     "name": "stdout",
     "output_type": "stream",
     "text": [
      "[CV]  C=10, class_weight=balanced, gamma=0.01, kernel=poly, score=0.7995578481945468, total=   1.9s\n",
      "[CV] C=10, class_weight=balanced, gamma=0.01, kernel=poly ............\n"
     ]
    },
    {
     "name": "stderr",
     "output_type": "stream",
     "text": [
      "C:\\Users\\jcfis\\Anaconda3\\lib\\site-packages\\sklearn\\utils\\validation.py:578: DataConversionWarning: A column-vector y was passed when a 1d array was expected. Please change the shape of y to (n_samples, ), for example using ravel().\n",
      "  y = column_or_1d(y, warn=True)\n"
     ]
    },
    {
     "name": "stdout",
     "output_type": "stream",
     "text": [
      "[CV]  C=10, class_weight=balanced, gamma=0.01, kernel=poly, score=0.8134218289085545, total=   1.9s\n"
     ]
    },
    {
     "name": "stderr",
     "output_type": "stream",
     "text": [
      "[Parallel(n_jobs=1)]: Done  54 out of  54 | elapsed:  4.2min finished\n",
      "C:\\Users\\jcfis\\Anaconda3\\lib\\site-packages\\sklearn\\utils\\validation.py:578: DataConversionWarning: A column-vector y was passed when a 1d array was expected. Please change the shape of y to (n_samples, ), for example using ravel().\n",
      "  y = column_or_1d(y, warn=True)\n"
     ]
    },
    {
     "data": {
      "text/plain": [
       "GridSearchCV(cv=None, error_score='raise',\n",
       "       estimator=SVC(C=1.0, cache_size=200, class_weight=None, coef0=0.0,\n",
       "  decision_function_shape='ovr', degree=3, gamma='auto', kernel='linear',\n",
       "  max_iter=-1, probability=False, random_state=None, shrinking=True,\n",
       "  tol=0.001, verbose=False),\n",
       "       fit_params=None, iid=True, n_jobs=1,\n",
       "       param_grid={'C': [1, 5, 10], 'class_weight': ['balanced'], 'gamma': [0.0001, 0.001, 0.01], 'kernel': ['rbf', 'poly']},\n",
       "       pre_dispatch='2*n_jobs', refit=True, return_train_score='warn',\n",
       "       scoring=None, verbose=3)"
      ]
     },
     "execution_count": 14,
     "metadata": {},
     "output_type": "execute_result"
    }
   ],
   "source": [
    "#Establish Paramaters for gridsearch\n",
    "param_grid = {'C': [1, 5, 10],\n",
    "              'class_weight' : ['balanced'],\n",
    "              'gamma': [0.0001, 0.001, 0.01],\n",
    "             'kernel': ['rbf', 'poly']}\n",
    "grid = GridSearchCV(loaded_model, param_grid, verbose=3)\n",
    "grid.fit(X_train_scaled, y_train)"
   ]
  },
  {
   "cell_type": "code",
   "execution_count": 40,
   "metadata": {},
   "outputs": [
    {
     "name": "stdout",
     "output_type": "stream",
     "text": [
      "{'C': 10, 'class_weight': 'balanced', 'gamma': 0.01, 'kernel': 'rbf'}\n",
      "0.9102060843964671\n"
     ]
    }
   ],
   "source": [
    "#print best paramater combination and score\n",
    "print(grid.best_params_)\n",
    "print(grid.best_score_)"
   ]
  },
  {
   "cell_type": "code",
   "execution_count": null,
   "metadata": {},
   "outputs": [],
   "source": []
  },
  {
   "cell_type": "code",
   "execution_count": 41,
   "metadata": {
    "scrolled": true
   },
   "outputs": [
    {
     "name": "stderr",
     "output_type": "stream",
     "text": [
      "C:\\Users\\jcfis\\Anaconda3\\lib\\site-packages\\sklearn\\utils\\validation.py:578: DataConversionWarning: A column-vector y was passed when a 1d array was expected. Please change the shape of y to (n_samples, ), for example using ravel().\n",
      "  y = column_or_1d(y, warn=True)\n"
     ]
    },
    {
     "data": {
      "text/plain": [
       "0.9286239882266373"
      ]
     },
     "execution_count": 41,
     "metadata": {},
     "output_type": "execute_result"
    }
   ],
   "source": [
    "best = SVC(C= 10, class_weight = 'balanced', gamma= 0.01, kernel='rbf')\n",
    "best.fit(X_train_scaled,y_train)\n",
    "tuned_result = best.score(X_test_scaled, y_test)\n",
    "tuned_prediction = best.predict(X_test_scaled)\n",
    "tuned_prediction\n",
    "tuned_result"
   ]
  },
  {
   "cell_type": "code",
   "execution_count": 43,
   "metadata": {},
   "outputs": [
    {
     "data": {
      "text/plain": [
       "array([[0.98507463, 0.        , 0.        , 0.        , 0.        ,\n",
       "        0.        , 0.        , 0.00746269, 0.        , 0.00746269],\n",
       "       [0.01162791, 0.91860465, 0.        , 0.        , 0.01162791,\n",
       "        0.01162791, 0.        , 0.01162791, 0.        , 0.03488372],\n",
       "       [0.00684932, 0.        , 0.94520548, 0.01369863, 0.        ,\n",
       "        0.        , 0.        , 0.        , 0.00684932, 0.02739726],\n",
       "       [0.01242236, 0.0310559 , 0.0621118 , 0.83850932, 0.00621118,\n",
       "        0.00621118, 0.00621118, 0.        , 0.02484472, 0.01242236],\n",
       "       [0.01360544, 0.00680272, 0.01360544, 0.00680272, 0.93877551,\n",
       "        0.        , 0.        , 0.        , 0.00680272, 0.01360544],\n",
       "       [0.02      , 0.        , 0.        , 0.        , 0.00666667,\n",
       "        0.97333333, 0.        , 0.        , 0.        , 0.        ],\n",
       "       [0.        , 0.01492537, 0.        , 0.07462687, 0.01492537,\n",
       "        0.        , 0.89552239, 0.        , 0.        , 0.        ],\n",
       "       [0.        , 0.        , 0.        , 0.        , 0.        ,\n",
       "        0.00613497, 0.        , 0.99386503, 0.        , 0.        ],\n",
       "       [0.        , 0.05517241, 0.        , 0.        , 0.        ,\n",
       "        0.00689655, 0.        , 0.        , 0.93103448, 0.00689655],\n",
       "       [0.01875   , 0.00625   , 0.06875   , 0.025     , 0.        ,\n",
       "        0.        , 0.        , 0.        , 0.025     , 0.85625   ]])"
      ]
     },
     "execution_count": 43,
     "metadata": {},
     "output_type": "execute_result"
    }
   ],
   "source": [
    "tuned_confusion = confusion_matrix(y_test,tuned_prediction)\n",
    "tuned_confusion = tuned_confusion.astype('float') / tuned_confusion.sum(axis=1)[:, np.newaxis]\n",
    "tuned_confusion"
   ]
  },
  {
   "cell_type": "code",
   "execution_count": 46,
   "metadata": {},
   "outputs": [
    {
     "data": {
      "image/png": "[encoded data removed]",
      "text/plain": [
       "<Figure size 1008x1008 with 2 Axes>"
      ]
     },
     "metadata": {},
     "output_type": "display_data"
    }
   ],
   "source": [
    "df_tuned_cm = pd.DataFrame(tuned_confusion, index = [i[1].replace('_',' ').capitalize() for i in catalog],\n",
    "                     columns  = [i[1].replace('_',' ').capitalize() for i in catalog])\n",
    "sn.set(font_scale=1.4)\n",
    "                     \n",
    "plt.figure(figsize= (14,14))\n",
    "plt.title('Hyperparameter Tuned SVM Classification')\n",
    "sn.heatmap(df_tuned_cm, annot = True,cmap = 'Blues',annot_kws={\"size\":14}, fmt ='.0%')\n",
    "plt.savefig('Tuned_heatmap.png')"
   ]
  }
 ],
 "metadata": {
  "kernelspec": {
   "display_name": "Python 3",
   "language": "python",
   "name": "python3"
  },
  "language_info": {
   "codemirror_mode": {
    "name": "ipython",
    "version": 3
   },
   "file_extension": ".py",
   "mimetype": "text/x-python",
   "name": "python",
   "nbconvert_exporter": "python",
   "pygments_lexer": "ipython3",
   "version": "3.7.0"
  }
 },
 "nbformat": 4,
 "nbformat_minor": 2
}
